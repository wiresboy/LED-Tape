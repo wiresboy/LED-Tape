{
 "cells": [
  {
   "cell_type": "code",
   "execution_count": 1,
   "metadata": {},
   "outputs": [
    {
     "name": "stderr",
     "output_type": "stream",
     "text": [
      "C:\\Users\\Brandon\\AppData\\Local\\Packages\\PythonSoftwareFoundation.Python.3.10_qbz5n2kfra8p0\\LocalCache\\local-packages\\Python310\\site-packages\\pyglet\\libs\\win32\\__init__.py:326: UserWarning: Could not set COM MTA mode. Unexpected behavior may occur.\n",
      "  warnings.warn(\"Could not set COM MTA mode. Unexpected behavior may occur.\")\n"
     ]
    }
   ],
   "source": [
    "import pyglet\n",
    "import numpy as np\n",
    "from renderer import Renderer\n",
    "from enum import Enum\n",
    "import random\n",
    "#from colour import Color\n",
    "from dmxToLED import control, dmx, Align, Modes, Color\n",
    "\n",
    "mode = \"viz\"\n",
    "if mode==\"viz\":\n",
    "    from strip import Strip\n",
    "else:\n",
    "    from strip import StripHW as Strip\n",
    "\n"
   ]
  },
  {
   "cell_type": "code",
   "execution_count": 2,
   "metadata": {},
   "outputs": [],
   "source": [
    "try: \n",
    "    gui.close()\n",
    "except:\n",
    "    pass\n",
    "\n",
    "background = pyglet.image.load(\"cad_bg.png\")\n",
    "\n",
    "gui = Renderer(background = background, screen = pyglet.canvas.get_display().get_screens()[-1])\n",
    "gui.set_location(2048, 150)\n",
    "\n",
    "#Actual set?\n",
    "stA1 = Strip(int(60*1.73))\n",
    "stA2 = Strip(int(60*2.44))\n",
    "stA3 = Strip(int(60*1.73))\n",
    "stA = stA1 + stA2 + stA3\n",
    "gui.addStrip(stA1, 547, 495, 729, 443   , r=3)\n",
    "gui.addStrip(stA2, 729, 443, 1166, 443  , r=3)\n",
    "gui.addStrip(stA3, 1166, 443, 1349, 495 , r=3)\n",
    "\n",
    "stB1 = Strip(int(60*2.38))\n",
    "stB2 = Strip(int(60*3.36))\n",
    "stB3 = Strip(int(60*2.38))\n",
    "stB = stB1 + stB2 + stB3\n",
    "gui.addStrip(stB1, 400, 453, 638, 374   , r=3)\n",
    "gui.addStrip(stB2, 638, 374, 1257, 374  , r=3)\n",
    "gui.addStrip(stB3, 1257, 374, 1496, 453 , r=3)\n",
    "\n",
    "stC1 = Strip(int(60*3.02))\n",
    "stC2 = Strip(int(60*4.27))\n",
    "stC3 = Strip(int(60*3.02))\n",
    "stC = stC1 + stC2 + stC3\n",
    "gui.addStrip(stC1, 256, 411, 544, 300   , r=3)\n",
    "gui.addStrip(stC2, 544, 300, 1355, 300  , r=3)\n",
    "gui.addStrip(stC3, 1355, 300, 1643, 411 , r=3)\n",
    "\n",
    "stD1 = Strip(int(60*3.67))\n",
    "stD2 = Strip(int(60*5.18))\n",
    "stD3 = Strip(int(60*3.67))\n",
    "stD = stD1 + stD2 + stD3\n",
    "gui.addStrip(stD1, 110, 368, 442, 222   , r=3)\n",
    "gui.addStrip(stD2, 442, 222, 1455, 222  , r=3)\n",
    "gui.addStrip(stD3, 1455, 222, 1788, 368 , r=3)\n",
    "\n",
    "fullStrip = stA+stB+stC+stD\n",
    "l = float(len(fullStrip))\n",
    "for i, p in enumerate(fullStrip):\n",
    "    p.rgb=(1,1-(i/l),i/l)\n",
    "\n",
    "gui.render()\n",
    "\n",
    "patch = [\n",
    "    (1, stA),\n",
    "    (15, stB),\n",
    "    (29, stC),\n",
    "    (43, stD),\n",
    "]\n"
   ]
  },
  {
   "cell_type": "code",
   "execution_count": 4,
   "metadata": {},
   "outputs": [
    {
     "name": "stdout",
     "output_type": "stream",
     "text": [
      "352\n",
      "485\n",
      "618\n",
      "750\n"
     ]
    }
   ],
   "source": [
    "print(len(stA))\n",
    "print(len(stB))\n",
    "print(len(stC))\n",
    "print(len(stD))"
   ]
  },
  {
   "cell_type": "markdown",
   "metadata": {},
   "source": [
    "## DMX\n",
    "\n",
    "Inputs: \n",
    "- Color 1\n",
    "- Color 2\n",
    "- Intens\n",
    "- Mode\n",
    "- Parameter\n",
    "- Enable range start, stop"
   ]
  },
  {
   "cell_type": "markdown",
   "metadata": {},
   "source": [
    "class Modes(Enum):\n",
    "    off = 0\n",
    "    solid = 1\n",
    "    alternate = 2\n",
    "    gradient_scroll = 3\n",
    "    random_strobe = 4  #Chunks of size, at rate\n",
    "    rainbow = 5\n",
    "#TODO: How to center\n",
    "\n",
    "class Align(Enum):\n",
    "    left = 0\n",
    "    center = 1\n",
    "    right = 2\n",
    "\n",
    "\n",
    "def control(strip:Strip, color1:str, color2:str, intensity:int, mode:Modes, parameter1:int, parameter2:int, startIndex:int, stopIndex:int, align:Align):\n",
    "    c1 = Color(color1)\n",
    "    c2 = Color(color2)\n",
    "\n",
    "    width = parameter1*3 + 1\n",
    "    offset = parameter2\n",
    "    \n",
    "    if align == Align.center:\n",
    "        halfStripWidth = (stopIndex - startIndex)//2\n",
    "        stripCenter = startIndex + halfStripWidth\n",
    "\n",
    "    if mode == Modes.gradient_scroll:\n",
    "        gradient = list(c1.range_to(c2, 128))\n",
    "        gradient += gradient[::-1] #Mirror the list!\n",
    "    elif mode == Modes.rainbow:\n",
    "        gradient = [Color(hue=theta, saturation=1, luminance=0.5) for theta in np.linspace(0.,1., 256, endpoint=False)]\n",
    "\n",
    "    for i, p in enumerate(strip):\n",
    "        if i<int(startIndex) or i>int(stopIndex):\n",
    "            p.intensity5bit=0\n",
    "        else:\n",
    "            p.intensity5bit = int(intensity)\n",
    "\n",
    "            if align == Align.left:\n",
    "                i = i-startIndex\n",
    "            elif align == Align.center:\n",
    "                i = abs(stripCenter-i)\n",
    "            elif align == Align.right:\n",
    "                i = stopIndex-i\n",
    "\n",
    "            index = int((i%width)*(256.0/width))\n",
    "\n",
    "            if mode == Modes.off:\n",
    "                p.rgb8bit = (0,0,0)\n",
    "            elif mode == Modes.solid:\n",
    "                p.rgb = c1.rgb\n",
    "            elif mode == Modes.alternate:\n",
    "                if (index < (offset*2)) and ((offset*2-256)<=index):\n",
    "                    p.rgb = c2.rgb\n",
    "                else:\n",
    "                    p.rgb = c1.rgb  \n",
    "            elif mode in (Modes.gradient_scroll, Modes.rainbow):\n",
    "                p.rgb = gradient[int(index-offset)].rgb\n",
    "            elif mode == Modes.random_strobe:\n",
    "                \n",
    "                pass\n",
    "\n",
    "\n",
    "patch = [\n",
    "    (1, stA),\n",
    "    (15, stB),\n",
    "    (29, stC),\n",
    "    (43, stD),\n",
    "]\n",
    "def dmx(universe_data, patch):\n",
    "    #print(universe_data)\n",
    "\n",
    "    \n",
    "    for address, st in patch:\n",
    "        data = universe_data[address-1:address+14]\n",
    "        if (data[7] >= 60) or (data[0] >= 96):\n",
    "            return None ##There was an error, probably bc of previs software trying to be secure\n",
    "        mode = Modes(data[7] // 10)\n",
    "        align = Align(data[0] // 32)\n",
    "\n",
    "        control(st, \n",
    "                Color(f\"#{data[1]:02x}{data[2]:02x}{data[3]:02x}\"),\n",
    "                Color(f\"#{data[4]:02x}{data[5]:02x}{data[6]:02x}\"),\n",
    "                data[0]%32,\n",
    "                mode,\n",
    "                data[8],\n",
    "                data[9],\n",
    "                data[10]*256+data[11],\n",
    "                data[12]*256+data[13],\n",
    "                align\n",
    "                )"
   ]
  },
  {
   "cell_type": "markdown",
   "metadata": {},
   "source": [
    "## DMX things"
   ]
  },
  {
   "cell_type": "code",
   "execution_count": 3,
   "metadata": {},
   "outputs": [],
   "source": [
    "import sacn\n",
    "import time\n",
    "\n",
    "patch = [\n",
    "    (1, stA),\n",
    "    (16, stB),\n",
    "    (31, stC),\n",
    "    (46, stD),\n",
    "]\n",
    "\n",
    "receiver = sacn.sACNreceiver()\n",
    "receiver.start()  # start the receiving thread\n",
    "\n",
    "@receiver.listen_on('universe', universe=1)\n",
    "def callback(packet:sacn.DataPacket):\n",
    "    #try:\n",
    "        dmx(packet.dmxData, patch)\n",
    "        #gui.render()\n",
    "    #except:\n",
    "    #    print(\"Bad data?\")\n",
    "    #print(packet.dmxData)  # print the received DMX data\n",
    "\n",
    "# optional: if multicast is desired, join with the universe number as parameter\n",
    "receiver.join_multicast(1)"
   ]
  },
  {
   "cell_type": "code",
   "execution_count": 4,
   "metadata": {},
   "outputs": [
    {
     "ename": "KeyboardInterrupt",
     "evalue": "",
     "output_type": "error",
     "traceback": [
      "\u001b[1;31m---------------------------------------------------------------------------\u001b[0m",
      "\u001b[1;31mKeyboardInterrupt\u001b[0m                         Traceback (most recent call last)",
      "Cell \u001b[1;32mIn[4], line 3\u001b[0m\n\u001b[0;32m      1\u001b[0m \u001b[39mwhile\u001b[39;00m \u001b[39mTrue\u001b[39;00m:\n\u001b[0;32m      2\u001b[0m     time\u001b[39m.\u001b[39msleep(\u001b[39m1\u001b[39m\u001b[39m/\u001b[39m\u001b[39m30\u001b[39m)\n\u001b[1;32m----> 3\u001b[0m     gui\u001b[39m.\u001b[39;49mrender()\n",
      "File \u001b[1;32mf:\\Shared\\LED Tape\\renderer.py:45\u001b[0m, in \u001b[0;36mRenderer.render\u001b[1;34m(self, *args)\u001b[0m\n\u001b[0;32m     43\u001b[0m \u001b[39mfor\u001b[39;00m s \u001b[39min\u001b[39;00m \u001b[39mself\u001b[39m\u001b[39m.\u001b[39mstrips:\n\u001b[0;32m     44\u001b[0m     s\u001b[39m.\u001b[39mupdate()\n\u001b[1;32m---> 45\u001b[0m \u001b[39mself\u001b[39;49m\u001b[39m.\u001b[39;49mclear()\n\u001b[0;32m     46\u001b[0m \u001b[39mif\u001b[39;00m \u001b[39mself\u001b[39m\u001b[39m.\u001b[39mbackground \u001b[39mis\u001b[39;00m \u001b[39mnot\u001b[39;00m \u001b[39mNone\u001b[39;00m:\n\u001b[0;32m     47\u001b[0m     \u001b[39mself\u001b[39m\u001b[39m.\u001b[39mbackground\u001b[39m.\u001b[39mblit(\u001b[39m0\u001b[39m,\u001b[39m0\u001b[39m)\n",
      "File \u001b[1;32m~\\AppData\\Local\\Packages\\PythonSoftwareFoundation.Python.3.10_qbz5n2kfra8p0\\LocalCache\\local-packages\\Python310\\site-packages\\pyglet\\window\\__init__.py:1359\u001b[0m, in \u001b[0;36mBaseWindow.clear\u001b[1;34m()\u001b[0m\n\u001b[0;32m   1352\u001b[0m \u001b[39m@staticmethod\u001b[39m\n\u001b[0;32m   1353\u001b[0m \u001b[39mdef\u001b[39;00m \u001b[39mclear\u001b[39m():\n\u001b[0;32m   1354\u001b[0m     \u001b[39m\"\"\"Clear the window.\u001b[39;00m\n\u001b[0;32m   1355\u001b[0m \n\u001b[0;32m   1356\u001b[0m \u001b[39m    This is a convenience method for clearing the color and depth\u001b[39;00m\n\u001b[0;32m   1357\u001b[0m \u001b[39m    buffer.  The window must be the active context (see `switch_to`).\u001b[39;00m\n\u001b[0;32m   1358\u001b[0m \u001b[39m    \"\"\"\u001b[39;00m\n\u001b[1;32m-> 1359\u001b[0m     gl\u001b[39m.\u001b[39;49mglClear(gl\u001b[39m.\u001b[39;49mGL_COLOR_BUFFER_BIT \u001b[39m|\u001b[39;49m gl\u001b[39m.\u001b[39;49mGL_DEPTH_BUFFER_BIT)\n",
      "File \u001b[1;32m~\\AppData\\Local\\Packages\\PythonSoftwareFoundation.Python.3.10_qbz5n2kfra8p0\\LocalCache\\local-packages\\Python310\\site-packages\\pyglet\\gl\\lib.py:87\u001b[0m, in \u001b[0;36merrcheck\u001b[1;34m(result, func, arguments)\u001b[0m\n\u001b[0;32m     83\u001b[0m \u001b[39mclass\u001b[39;00m \u001b[39mGLException\u001b[39;00m(\u001b[39mException\u001b[39;00m):\n\u001b[0;32m     84\u001b[0m     \u001b[39mpass\u001b[39;00m\n\u001b[1;32m---> 87\u001b[0m \u001b[39mdef\u001b[39;00m \u001b[39merrcheck\u001b[39m(result, func, arguments):\n\u001b[0;32m     88\u001b[0m     \u001b[39mif\u001b[39;00m _debug_gl_trace:\n\u001b[0;32m     89\u001b[0m         \u001b[39mtry\u001b[39;00m:\n",
      "\u001b[1;31mKeyboardInterrupt\u001b[0m: "
     ]
    }
   ],
   "source": [
    "while True:\n",
    "    time.sleep(1/30)\n",
    "    gui.render()"
   ]
  },
  {
   "cell_type": "code",
   "execution_count": 5,
   "metadata": {},
   "outputs": [],
   "source": [
    "receiver.leave_multicast(1)\n",
    "\n",
    "receiver.stop()\n",
    "gui.close()"
   ]
  },
  {
   "cell_type": "markdown",
   "metadata": {},
   "source": [
    "## Development Gui"
   ]
  },
  {
   "cell_type": "code",
   "execution_count": 4,
   "metadata": {},
   "outputs": [],
   "source": [
    "import PySimpleGUI as sg\n",
    "\n",
    "st = fullStrip\n",
    "\n",
    "stripLength = len(st)\n",
    "\n",
    "modeRadios = [sg.Radio(m.name, \"MODE\", enable_events=True, key=f\"-IN-mode-{m.name}\",   default=False) for m in Modes]\n",
    "\n",
    "color1 = sg.Button(button_text=\"Color 1\", button_type=sg.BUTTON_TYPE_COLOR_CHOOSER, key=\"-IN-color1-\")\n",
    "color2 = sg.Button(button_text=\"Color 2\", button_type=sg.BUTTON_TYPE_COLOR_CHOOSER, key=\"-IN-color2-\")\n",
    "\n",
    "layout = [\n",
    "    [sg.Text(\"DMX Input Tester\")],\n",
    "    [sg.Text(\"Intensity:\"),   sg.Slider(range=(0,31),           key=\"-IN-Intensity-\", default_value=31, size=(50,15), enable_events=True, orientation=\"horizontal\")],\n",
    "    [sg.Text(\"Range start:\"), sg.Slider(range=(0,stripLength),  key=\"-IN-RangeStart-\",default_value=0,  size=(50,15), enable_events=True, orientation=\"horizontal\")],\n",
    "    [sg.Text(\"Range stop:\"),  sg.Slider(range=(0,stripLength),  key=\"-IN-RangeStop-\", default_value=65535,size=(50,15), enable_events=True, orientation=\"horizontal\")],\n",
    "    [   color1, color2],\n",
    "    modeRadios,\n",
    "    [sg.Checkbox(\"Centered mode\", key=\"-IN-center-\")],\n",
    "    [sg.Text(\"Mode Parameter 1:\"),  sg.Slider(range=(0,255), key=\"-IN-modeCustom1-\", default_value=128,size=(50,15), enable_events=True, orientation=\"horizontal\")],\n",
    "    [sg.Text(\"Mode Parameter 2:\"),  sg.Slider(range=(0,255), key=\"-IN-modeCustom2-\", default_value=128,size=(50,15), enable_events=True, orientation=\"horizontal\")],\n",
    "    ]\n",
    "\n",
    "color1.default_color = \"#00ff00\"\n",
    "color2.default_color = \"#0000ff\"\n",
    "\n",
    "window = sg.Window(title=\"DMX Input Parameters\", layout=layout, finalize=True)\n",
    "\n",
    "modeRadios[0].update(value=True)\n",
    "\n",
    "\n",
    "while True:\n",
    "    event, values = window.read(timeout = 30)\n",
    "    # End program if user closes window or\n",
    "    # presses the OK button\n",
    "    if event == \"OK\" or event == sg.WIN_CLOSED:\n",
    "        break\n",
    "\n",
    "    #print(values)\n",
    "\n",
    "    try:\n",
    "        mode = Modes.off\n",
    "        for m in Modes:\n",
    "            if values[f\"-IN-mode-{m.name}\"]:\n",
    "                mode = m\n",
    "\n",
    "        control(st, \n",
    "            values[\"-IN-color1-\"],#hexToColor(), \n",
    "            values[\"-IN-color2-\"],#hexToColor(), \n",
    "            values[\"-IN-Intensity-\"], \n",
    "\n",
    "            mode,\n",
    "            values[\"-IN-modeCustom1-\"], \n",
    "            values[\"-IN-modeCustom2-\"], \n",
    "\n",
    "            values[\"-IN-RangeStart-\"],\n",
    "            values[\"-IN-RangeStop-\"],\n",
    "            center=values[\"-IN-center-\"])\n",
    "    except:\n",
    "        pass\n",
    "    \n",
    "    gui.render()\n",
    "    \n",
    "\n",
    "window.close()"
   ]
  },
  {
   "cell_type": "code",
   "execution_count": 5,
   "metadata": {},
   "outputs": [],
   "source": [
    "window.close()"
   ]
  },
  {
   "cell_type": "code",
   "execution_count": 6,
   "metadata": {},
   "outputs": [],
   "source": [
    "gui.close()"
   ]
  },
  {
   "cell_type": "code",
   "execution_count": 1,
   "metadata": {},
   "outputs": [
    {
     "data": {
      "text/plain": [
       "7"
      ]
     },
     "execution_count": 1,
     "metadata": {},
     "output_type": "execute_result"
    }
   ],
   "source": [
    "-3%10"
   ]
  },
  {
   "cell_type": "code",
   "execution_count": 22,
   "metadata": {},
   "outputs": [
    {
     "name": "stdout",
     "output_type": "stream",
     "text": [
      "110  --  0:5\t\t6**8\t\t9:18\t\tTrue\n",
      "111  --  0:5\t\t6**8\t\t9:18\t\tTrue\n",
      "112  --  0:6\t\t7**8\t\t9:18\t\tTrue\n",
      "113  --  0:6\t\t7**8\t\t9:18\t\tTrue\n",
      "114  --  0:6\t\t7**8\t\t9:18\t\tTrue\n",
      "115  --  0:6\t\t7**8\t\t9:18\t\tTrue\n",
      "116  --  0:6\t\t7**8\t\t9:18\t\tTrue\n",
      "117  --  0:6\t\t7**8\t\t9:18\t\tTrue\n",
      "118  --  0:7\t\t8**8\t\t9:18\t\tTrue\n",
      "119  --  0:7\t\t8**8\t\t9:18\t\tTrue\n",
      "120  --  0:7\t\t8**8\t\t9:18\t\tTrue\n",
      "121  --  0:7\t\t8**8\t\t9:18\t\tTrue\n",
      "122  --  0:7\t\t8**8\t\t9:18\t\tTrue\n",
      "123  --  0:7\t\t8**8\t\t9:18\t\tTrue\n",
      "124  --  0:7\t\t8**8\t\t9:18\t\tTrue\n",
      "125  --  0:8\t\t9**8\t\t9:18\t\tTrue\n",
      "126  --  0:8\t\t9**8\t\t9:18\t\tTrue\n",
      "127  --  0:8\t\t9**8\t\t9:18\t\tTrue\n",
      "128  --  0:8\t\t9**8\t\t9:18\t\tFalse\n",
      "129  --  0:8\t\t9**8\t\t9:18\t\tFalse\n",
      "130  --  0:8\t\t9**8\t\t9:18\t\tFalse\n",
      "131  --  0:8\t\t9**8\t\t9:18\t\tFalse\n",
      "132  --  0:8\t\t9**9\t\t10:18\t\tFalse\n",
      "133  --  0:8\t\t9**9\t\t10:18\t\tFalse\n",
      "134  --  0:8\t\t9**9\t\t10:18\t\tFalse\n",
      "135  --  0:8\t\t9**9\t\t10:18\t\tFalse\n",
      "136  --  0:8\t\t9**9\t\t10:18\t\tFalse\n",
      "137  --  0:8\t\t9**9\t\t10:18\t\tFalse\n",
      "138  --  0:8\t\t9**9\t\t10:18\t\tFalse\n",
      "139  --  0:8\t\t9**10\t\t11:18\t\tFalse\n"
     ]
    }
   ],
   "source": [
    "def c(activeWidth:int, width:int, size:int, parameter3:int):\n",
    "    #Base parameters\n",
    "    widthScale = 256.0/width\n",
    "    shift = parameter3-128 #Its signed\n",
    "\n",
    "    reps = activeWidth / width\n",
    "    if width > reps: #If there are more pixels in each width than there are repititions, then the outer loop should be repititions\n",
    "        lc = (-shift         ) %256\n",
    "        uc = (-shift + size*2) %256\n",
    "        lower_cutoff = int(lc/widthScale)\n",
    "        upper_cutoff = int(uc/widthScale)\n",
    "        invert = lc > uc%256\n",
    "        if invert:\n",
    "            lower_cutoff, upper_cutoff = upper_cutoff, lower_cutoff\n",
    "        if invert ^ (size>=128):\n",
    "            print(f\"{size}  --  0:{lower_cutoff-1}\\t\\t{lower_cutoff}**{upper_cutoff-1}\\t\\t{upper_cutoff}:{width-1}\\t\\t{invert}\")\n",
    "        else:\n",
    "            print(f\"{size}  --  0**{lower_cutoff-1}\\t\\t{lower_cutoff}:{upper_cutoff-1}\\t\\t{upper_cutoff}**{width-1}\\t\\t{invert}\")\n",
    "    else:\n",
    "        pass\n",
    "        #for i in range(width):\n",
    "        #    if size*2-256 <= (i*widthScale - shift)%256 < size*2:   #( - size)\n",
    "        #        strip[i::width].c = rgb2\n",
    "        #    else:\n",
    "        #        strip[i::width].c = rgb1\n",
    "\n",
    "\n",
    "for x in range(110,140, 1):\n",
    "    c(300, 19, x, 0)"
   ]
  },
  {
   "cell_type": "code",
   "execution_count": 11,
   "metadata": {},
   "outputs": [
    {
     "data": {
      "text/plain": [
       "array([0., 0., 0., 0., 0., 0., 0., 0., 0., 0.])"
      ]
     },
     "execution_count": 11,
     "metadata": {},
     "output_type": "execute_result"
    }
   ],
   "source": [
    "z=np.zeros(10)\n",
    "z[3:2]=1\n",
    "z"
   ]
  }
 ],
 "metadata": {
  "kernelspec": {
   "display_name": "Python 3.10.9 64-bit (microsoft store)",
   "language": "python",
   "name": "python3"
  },
  "language_info": {
   "codemirror_mode": {
    "name": "ipython",
    "version": 3
   },
   "file_extension": ".py",
   "mimetype": "text/x-python",
   "name": "python",
   "nbconvert_exporter": "python",
   "pygments_lexer": "ipython3",
   "version": "3.10.9"
  },
  "orig_nbformat": 4,
  "vscode": {
   "interpreter": {
    "hash": "9ff91d8e1273a340883a95c6d684eafbbc0a8b1b97fff97657ce4442b10a2f05"
   }
  }
 },
 "nbformat": 4,
 "nbformat_minor": 2
}
